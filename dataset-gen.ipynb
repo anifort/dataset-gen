{
 "cells": [
  {
   "cell_type": "code",
   "execution_count": 160,
   "id": "8ec3a63c-0bdc-4ecb-82c9-cce046c7a4f1",
   "metadata": {},
   "outputs": [],
   "source": [
    "ds_mapping={\n",
    "    \"customerID\": {\n",
    "        \"name_replace\": \"customerId\",\n",
    "        \"value_replace\": None,        \n",
    "    },\n",
    "    \"gender\": {\n",
    "        \"name_replace\": \"gender\",\n",
    "        \"value_replace\": None,        \n",
    "    },\n",
    "    \"SeniorCitizen\": {\n",
    "        \"name_replace\": \"mobileApp\",\n",
    "        \"value_replace\": None,        \n",
    "    },\n",
    "    \"Partner\": {\n",
    "        \"name_replace\": \"partnerProgram\",\n",
    "        \"value_replace\": None,        \n",
    "    },\n",
    "    \"Dependents\": {\n",
    "        \"name_replace\": \"travelInsurance\",\n",
    "        \"value_replace\": None,        \n",
    "    },\n",
    "    \"tenure\": {\n",
    "        \"name_replace\": \"tenure\",\n",
    "        \"value_replace\": None,        \n",
    "    },\n",
    "    \"PhoneService\": {\n",
    "        \"name_replace\": \"redeemedMiles\",\n",
    "        \"value_replace\": None,        \n",
    "    },\n",
    "    \"MultipleLines\": {\n",
    "        \"name_replace\": \"familyAccount\",\n",
    "        \"value_replace\": {'No': 'no', \n",
    "                          'Yes':'yes', \n",
    "                          'No phone service': 'no'},\n",
    "    },\n",
    "    \"InternetService\": {\n",
    "        \"name_replace\": \"membership\",\n",
    "        \"value_replace\": {'DSL': 'silver', \n",
    "                          'Fiber optic':'gold', \n",
    "                          'No':'no'},        \n",
    "    },\n",
    "    \"OnlineSecurity\": {\n",
    "        \"name_replace\": \"onlineAccount\",\n",
    "        \"value_replace\": {'No': 'no', \n",
    "                          'Yes':'yes', \n",
    "                          'No internet service': 'no'},         \n",
    "    },\n",
    "    \"OnlineBackup\": {\n",
    "        \"name_replace\": \"traveledRecently\",\n",
    "        \"value_replace\": {'No': 'no', \n",
    "                          'Yes':'yes', \n",
    "                          'No internet service': 'no'},          \n",
    "    },\n",
    "    \"DeviceProtection\": {\n",
    "        \"name_replace\": \"extraLuggage\",\n",
    "        \"value_replace\": {'No': 'no', \n",
    "                          'Yes':'yes', \n",
    "                          'No internet service': 'no'},            \n",
    "    },\n",
    "    \"TechSupport\": {\n",
    "        \"name_replace\": \"customerSupportLast3Mos\",\n",
    "        \"value_replace\": {'No': 'no', \n",
    "                          'Yes':'yes', \n",
    "                          'No internet service': 'no'},          \n",
    "    },\n",
    "    \"StreamingTV\": {\n",
    "        \"name_replace\": \"businessClass\",\n",
    "        \"value_replace\": {'No': 'no', \n",
    "                          'Yes':'yes', \n",
    "                          'No internet service': 'no'},            \n",
    "    },\n",
    "    \"StreamingMovies\": {\n",
    "        \"name_replace\": \"emailComms\",\n",
    "        \"value_replace\": {'No': 'no', \n",
    "                          'Yes':'yes', \n",
    "                          'No internet service': 'no'},        \n",
    "    },\n",
    "    \"Contract\": {\n",
    "        \"name_replace\": \"travelFrequency\",\n",
    "        \"value_replace\": {'Month-to-month': 'high', \n",
    "                          'Two year': 'low', \n",
    "                          'One year': 'medium'},        \n",
    "    },\n",
    "    \"PaperlessBilling\": {\n",
    "        \"name_replace\": \"smsComms\",\n",
    "        \"value_replace\": None,        \n",
    "    },\n",
    "    \"PaymentMethod\": {\n",
    "        \"name_replace\": \"paymentMethod\",\n",
    "        \"value_replace\": {'Electronic check': 'debit card',\n",
    "                          'Mailed check' : 'credit card',\n",
    "                          'Bank transfer (automatic)': 'bank transfer',\n",
    "                          'Credit card (automatic)': 'credit card'\n",
    "        }\n",
    "    },\n",
    "    \"MonthlyCharges\": {\n",
    "        \"name_replace\": \"lastQuarterPoints\",\n",
    "        \"value_replace\": None,\n",
    "        \"dtype\": int       \n",
    "    },\n",
    "    \"TotalCharges\": {\n",
    "        \"name_replace\": \"totalPoints\",\n",
    "        \"value_replace\": None,  \n",
    "        \"dtype\": int\n",
    "    },\n",
    "    \"Churn\": {\n",
    "        \"name_replace\": \"label\",\n",
    "        \"value_replace\": None,        \n",
    "    },\n",
    "}"
   ]
  },
  {
   "cell_type": "code",
   "execution_count": 161,
   "id": "59511414-d852-4bfb-a9aa-a73b32fa802e",
   "metadata": {},
   "outputs": [],
   "source": [
    "import pandas as pd"
   ]
  },
  {
   "cell_type": "code",
   "execution_count": 162,
   "id": "e7f4653c-67d4-4611-bd6b-5159e3043327",
   "metadata": {},
   "outputs": [],
   "source": [
    "df = pd.read_csv('churn.csv')"
   ]
  },
  {
   "cell_type": "code",
   "execution_count": 163,
   "id": "cd538cad-0136-4c0b-b377-d04b57b00fd1",
   "metadata": {},
   "outputs": [
    {
     "data": {
      "text/plain": [
       "customerID           object\n",
       "gender               object\n",
       "SeniorCitizen         int64\n",
       "Partner              object\n",
       "Dependents           object\n",
       "tenure                int64\n",
       "PhoneService         object\n",
       "MultipleLines        object\n",
       "InternetService      object\n",
       "OnlineSecurity       object\n",
       "OnlineBackup         object\n",
       "DeviceProtection     object\n",
       "TechSupport          object\n",
       "StreamingTV          object\n",
       "StreamingMovies      object\n",
       "Contract             object\n",
       "PaperlessBilling     object\n",
       "PaymentMethod        object\n",
       "MonthlyCharges      float64\n",
       "TotalCharges         object\n",
       "Churn                object\n",
       "dtype: object"
      ]
     },
     "execution_count": 163,
     "metadata": {},
     "output_type": "execute_result"
    }
   ],
   "source": [
    "df.dtypes"
   ]
  },
  {
   "cell_type": "code",
   "execution_count": 164,
   "id": "f198a411-924d-41ba-9ab3-f9165b82f9c1",
   "metadata": {},
   "outputs": [],
   "source": [
    "import numpy as np\n",
    "for k,v in ds_mapping.items():\n",
    "    if 'name_replace' in v.keys() and v['name_replace'] is not None:\n",
    "        \n",
    "        df = df.rename(columns={k: v['name_replace']})\n",
    "        \n",
    "        if 'value_replace' in v.keys() and v['value_replace'] is not None:\n",
    "            df = df.replace({v['name_replace']: v['value_replace']})\n",
    "        if 'dtype' in v.keys() and v['dtype'] is not None:\n",
    "            if(v['dtype']==int):\n",
    "                df[v['name_replace']] = df[v['name_replace']].replace(r'^\\s*$', np.NaN, regex=True).fillna(0).astype(str).astype(float).astype(int)\n",
    "            if(v['dtype']==float):\n",
    "                df[v['name_replace']] = df[v['name_replace']].replace(r'^\\s*$', np.NaN, regex=True).fillna(0).astype(str).astype(float)\n",
    "            "
   ]
  },
  {
   "cell_type": "code",
   "execution_count": 165,
   "id": "d25247bc-9349-48ab-ad49-302aaf8d49c9",
   "metadata": {},
   "outputs": [
    {
     "data": {
      "text/plain": [
       "customerId                 object\n",
       "gender                     object\n",
       "mobileApp                   int64\n",
       "partnerProgram             object\n",
       "travelInsurance            object\n",
       "tenure                      int64\n",
       "redeemedMiles              object\n",
       "familyAccount              object\n",
       "membership                 object\n",
       "onlineAccount              object\n",
       "traveledRecently           object\n",
       "extraLuggage               object\n",
       "customerSupportLast3Mos    object\n",
       "businessClass              object\n",
       "emailComms                 object\n",
       "travelFrequency            object\n",
       "smsComms                   object\n",
       "paymentMethod              object\n",
       "lastQuarterPoints           int64\n",
       "totalPoints                 int64\n",
       "label                      object\n",
       "dtype: object"
      ]
     },
     "execution_count": 165,
     "metadata": {},
     "output_type": "execute_result"
    }
   ],
   "source": [
    "df.head().dtypes"
   ]
  },
  {
   "cell_type": "code",
   "execution_count": 166,
   "id": "33451187-4f5d-47c5-956b-80b623b36124",
   "metadata": {},
   "outputs": [],
   "source": [
    "df.to_csv('airline_customers.csv', index=False)"
   ]
  }
 ],
 "metadata": {
  "environment": {
   "kernel": "python3",
   "name": "tf2-gpu.2-6.m82",
   "type": "gcloud",
   "uri": "gcr.io/deeplearning-platform-release/tf2-gpu.2-6:m82"
  },
  "kernelspec": {
   "display_name": "Python 3",
   "language": "python",
   "name": "python3"
  },
  "language_info": {
   "codemirror_mode": {
    "name": "ipython",
    "version": 3
   },
   "file_extension": ".py",
   "mimetype": "text/x-python",
   "name": "python",
   "nbconvert_exporter": "python",
   "pygments_lexer": "ipython3",
   "version": "3.7.10"
  }
 },
 "nbformat": 4,
 "nbformat_minor": 5
}
